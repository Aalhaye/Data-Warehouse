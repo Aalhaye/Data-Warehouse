{
 "cells": [
  {
   "cell_type": "code",
   "execution_count": 1,
   "id": "30be2897-c924-4a23-a9c5-06efe6640258",
   "metadata": {},
   "outputs": [],
   "source": [
    "import pandas as pd \n",
    "import numpy as np "
   ]
  },
  {
   "cell_type": "code",
   "execution_count": 2,
   "id": "e7371685-f726-4ea6-b94e-4b618bce4e86",
   "metadata": {},
   "outputs": [],
   "source": [
    "# read data"
   ]
  },
  {
   "cell_type": "code",
   "execution_count": 3,
   "id": "5538f60e-be98-4ed9-b54a-cb17cf3e7efb",
   "metadata": {},
   "outputs": [
    {
     "data": {
      "text/html": [
       "<div>\n",
       "<style scoped>\n",
       "    .dataframe tbody tr th:only-of-type {\n",
       "        vertical-align: middle;\n",
       "    }\n",
       "\n",
       "    .dataframe tbody tr th {\n",
       "        vertical-align: top;\n",
       "    }\n",
       "\n",
       "    .dataframe thead th {\n",
       "        text-align: right;\n",
       "    }\n",
       "</style>\n",
       "<table border=\"1\" class=\"dataframe\">\n",
       "  <thead>\n",
       "    <tr style=\"text-align: right;\">\n",
       "      <th></th>\n",
       "      <th>customer_id</th>\n",
       "      <th>gender</th>\n",
       "      <th>age</th>\n",
       "      <th>payment_method</th>\n",
       "    </tr>\n",
       "  </thead>\n",
       "  <tbody>\n",
       "    <tr>\n",
       "      <th>0</th>\n",
       "      <td>C241288</td>\n",
       "      <td>Female</td>\n",
       "      <td>28.0</td>\n",
       "      <td>Credit Card</td>\n",
       "    </tr>\n",
       "    <tr>\n",
       "      <th>1</th>\n",
       "      <td>C111565</td>\n",
       "      <td>Male</td>\n",
       "      <td>21.0</td>\n",
       "      <td>Debit Card</td>\n",
       "    </tr>\n",
       "    <tr>\n",
       "      <th>2</th>\n",
       "      <td>C266599</td>\n",
       "      <td>Male</td>\n",
       "      <td>20.0</td>\n",
       "      <td>Cash</td>\n",
       "    </tr>\n",
       "    <tr>\n",
       "      <th>3</th>\n",
       "      <td>C988172</td>\n",
       "      <td>Female</td>\n",
       "      <td>66.0</td>\n",
       "      <td>Credit Card</td>\n",
       "    </tr>\n",
       "    <tr>\n",
       "      <th>4</th>\n",
       "      <td>C189076</td>\n",
       "      <td>Female</td>\n",
       "      <td>53.0</td>\n",
       "      <td>Cash</td>\n",
       "    </tr>\n",
       "  </tbody>\n",
       "</table>\n",
       "</div>"
      ],
      "text/plain": [
       "  customer_id  gender   age payment_method\n",
       "0     C241288  Female  28.0    Credit Card\n",
       "1     C111565    Male  21.0     Debit Card\n",
       "2     C266599    Male  20.0           Cash\n",
       "3     C988172  Female  66.0    Credit Card\n",
       "4     C189076  Female  53.0           Cash"
      ]
     },
     "execution_count": 3,
     "metadata": {},
     "output_type": "execute_result"
    }
   ],
   "source": [
    "cus_data = pd.read_csv('customer_data.csv')\n",
    "cus_data.head()"
   ]
  },
  {
   "cell_type": "code",
   "execution_count": 4,
   "id": "f8f48ac0-0d71-4ad5-864a-a6607faad7d0",
   "metadata": {},
   "outputs": [
    {
     "data": {
      "text/html": [
       "<div>\n",
       "<style scoped>\n",
       "    .dataframe tbody tr th:only-of-type {\n",
       "        vertical-align: middle;\n",
       "    }\n",
       "\n",
       "    .dataframe tbody tr th {\n",
       "        vertical-align: top;\n",
       "    }\n",
       "\n",
       "    .dataframe thead th {\n",
       "        text-align: right;\n",
       "    }\n",
       "</style>\n",
       "<table border=\"1\" class=\"dataframe\">\n",
       "  <thead>\n",
       "    <tr style=\"text-align: right;\">\n",
       "      <th></th>\n",
       "      <th>invoice_no</th>\n",
       "      <th>customer_id</th>\n",
       "      <th>category</th>\n",
       "      <th>quantity</th>\n",
       "      <th>price</th>\n",
       "      <th>invoice_date</th>\n",
       "      <th>shopping_mall</th>\n",
       "    </tr>\n",
       "  </thead>\n",
       "  <tbody>\n",
       "    <tr>\n",
       "      <th>0</th>\n",
       "      <td>I138884</td>\n",
       "      <td>C241288</td>\n",
       "      <td>Clothing</td>\n",
       "      <td>5</td>\n",
       "      <td>1500.40</td>\n",
       "      <td>05-08-2022</td>\n",
       "      <td>Kanyon</td>\n",
       "    </tr>\n",
       "    <tr>\n",
       "      <th>1</th>\n",
       "      <td>I317333</td>\n",
       "      <td>C111565</td>\n",
       "      <td>Shoes</td>\n",
       "      <td>3</td>\n",
       "      <td>1800.51</td>\n",
       "      <td>12-12-2021</td>\n",
       "      <td>Forum Istanbul</td>\n",
       "    </tr>\n",
       "    <tr>\n",
       "      <th>2</th>\n",
       "      <td>I127801</td>\n",
       "      <td>C266599</td>\n",
       "      <td>Clothing</td>\n",
       "      <td>1</td>\n",
       "      <td>300.08</td>\n",
       "      <td>09-11-2021</td>\n",
       "      <td>Metrocity</td>\n",
       "    </tr>\n",
       "    <tr>\n",
       "      <th>3</th>\n",
       "      <td>I173702</td>\n",
       "      <td>C988172</td>\n",
       "      <td>Shoes</td>\n",
       "      <td>5</td>\n",
       "      <td>3000.85</td>\n",
       "      <td>16-05-2021</td>\n",
       "      <td>Metropol AVM</td>\n",
       "    </tr>\n",
       "    <tr>\n",
       "      <th>4</th>\n",
       "      <td>I337046</td>\n",
       "      <td>C189076</td>\n",
       "      <td>Books</td>\n",
       "      <td>4</td>\n",
       "      <td>60.60</td>\n",
       "      <td>24-10-2021</td>\n",
       "      <td>Kanyon</td>\n",
       "    </tr>\n",
       "  </tbody>\n",
       "</table>\n",
       "</div>"
      ],
      "text/plain": [
       "  invoice_no customer_id  category  quantity    price invoice_date  \\\n",
       "0    I138884     C241288  Clothing         5  1500.40   05-08-2022   \n",
       "1    I317333     C111565     Shoes         3  1800.51   12-12-2021   \n",
       "2    I127801     C266599  Clothing         1   300.08   09-11-2021   \n",
       "3    I173702     C988172     Shoes         5  3000.85   16-05-2021   \n",
       "4    I337046     C189076     Books         4    60.60   24-10-2021   \n",
       "\n",
       "    shopping_mall  \n",
       "0          Kanyon  \n",
       "1  Forum Istanbul  \n",
       "2       Metrocity  \n",
       "3    Metropol AVM  \n",
       "4          Kanyon  "
      ]
     },
     "execution_count": 4,
     "metadata": {},
     "output_type": "execute_result"
    }
   ],
   "source": [
    "sale_data = pd.read_csv('sales_data.csv')\n",
    "sale_data.head()"
   ]
  },
  {
   "cell_type": "code",
   "execution_count": 5,
   "id": "cafeab4a-2157-4ee6-96e3-96b0f6cbc2b6",
   "metadata": {},
   "outputs": [],
   "source": [
    "# explore data"
   ]
  },
  {
   "cell_type": "code",
   "execution_count": 6,
   "id": "543c6aaf-aa5a-4f91-8d05-513679305072",
   "metadata": {},
   "outputs": [],
   "source": [
    "def clean_data (table):\n",
    "    print('---------- information to data ------------')\n",
    "    print(table.info())\n",
    "    print('---------- check null value ------------')\n",
    "    print(table.isnull().sum())\n",
    "    print('------------- check duplicated raw ---------------')\n",
    "    print(table.duplicated().sum())"
   ]
  },
  {
   "cell_type": "code",
   "execution_count": 7,
   "id": "bfe81c17-8e5d-45cc-8534-62d08678475f",
   "metadata": {},
   "outputs": [
    {
     "name": "stdout",
     "output_type": "stream",
     "text": [
      "Index(['customer_id', 'gender', 'age', 'payment_method'], dtype='object')\n",
      "==================================================\n",
      "Index(['invoice_no', 'customer_id', 'category', 'quantity', 'price',\n",
      "       'invoice_date', 'shopping_mall'],\n",
      "      dtype='object')\n"
     ]
    }
   ],
   "source": [
    "print(cus_data.columns)\n",
    "print('='*50)\n",
    "print(sale_data.columns)"
   ]
  },
  {
   "cell_type": "code",
   "execution_count": 8,
   "id": "55597929-a976-4140-95fa-3a5b0f560b07",
   "metadata": {},
   "outputs": [],
   "source": [
    "# show unique value from column to data"
   ]
  },
  {
   "cell_type": "code",
   "execution_count": 9,
   "id": "52904473-7ab2-4687-98f3-0a710beed4a8",
   "metadata": {},
   "outputs": [],
   "source": [
    "def unique_value_to_col(data):\n",
    "    for column in data.columns :\n",
    "        unique_value = data[column].unique()\n",
    "        print(f'column {column} is unique value is {unique_value}')\n"
   ]
  },
  {
   "cell_type": "code",
   "execution_count": 10,
   "id": "4427604e-5e96-4830-aee2-4504ba9ff809",
   "metadata": {},
   "outputs": [],
   "source": [
    "# unique_value_to_col(sale_data)"
   ]
  },
  {
   "cell_type": "code",
   "execution_count": 11,
   "id": "eb71c0f3-9ac9-45fa-8889-df1a233bac93",
   "metadata": {},
   "outputs": [],
   "source": [
    "# call function to explore data"
   ]
  },
  {
   "cell_type": "code",
   "execution_count": 12,
   "id": "545b7c9f-f3a0-422e-9e65-99b6de4f7839",
   "metadata": {},
   "outputs": [
    {
     "name": "stdout",
     "output_type": "stream",
     "text": [
      "---------- information to data ------------\n",
      "<class 'pandas.core.frame.DataFrame'>\n",
      "RangeIndex: 99457 entries, 0 to 99456\n",
      "Data columns (total 4 columns):\n",
      " #   Column          Non-Null Count  Dtype  \n",
      "---  ------          --------------  -----  \n",
      " 0   customer_id     99457 non-null  object \n",
      " 1   gender          99457 non-null  object \n",
      " 2   age             99338 non-null  float64\n",
      " 3   payment_method  99457 non-null  object \n",
      "dtypes: float64(1), object(3)\n",
      "memory usage: 3.0+ MB\n",
      "None\n",
      "---------- check null value ------------\n",
      "customer_id         0\n",
      "gender              0\n",
      "age               119\n",
      "payment_method      0\n",
      "dtype: int64\n",
      "------------- check duplicated raw ---------------\n",
      "0\n"
     ]
    }
   ],
   "source": [
    "clean_data(cus_data)"
   ]
  },
  {
   "cell_type": "code",
   "execution_count": 13,
   "id": "b5ed94b5-9b00-4776-8bad-d7cfaf9fd91c",
   "metadata": {},
   "outputs": [],
   "source": [
    "# Filling in missing values with average ages"
   ]
  },
  {
   "cell_type": "code",
   "execution_count": 14,
   "id": "7270612f-d91e-4fe9-9548-7c93f6298497",
   "metadata": {},
   "outputs": [
    {
     "data": {
      "text/plain": [
       "customer_id       0\n",
       "gender            0\n",
       "age               0\n",
       "payment_method    0\n",
       "dtype: int64"
      ]
     },
     "execution_count": 14,
     "metadata": {},
     "output_type": "execute_result"
    }
   ],
   "source": [
    "cus_data['age'] = cus_data['age'].fillna(cus_data['age'].median())\n",
    "cus_data.isnull().sum()\n",
    "                                         "
   ]
  },
  {
   "cell_type": "code",
   "execution_count": 25,
   "id": "e5047287-8e27-46a2-927e-9b933ed55332",
   "metadata": {},
   "outputs": [
    {
     "name": "stdout",
     "output_type": "stream",
     "text": [
      "int64\n"
     ]
    }
   ],
   "source": [
    "# convert (age column) from float to int\n",
    "cus_data['age'] = cus_data['age'].astype('int64') \n",
    "print(cus_data['age'].dtype)"
   ]
  },
  {
   "cell_type": "code",
   "execution_count": 18,
   "id": "ad84e229-8b19-46b3-9527-21290b68c652",
   "metadata": {},
   "outputs": [],
   "source": [
    "# call function to explore data"
   ]
  },
  {
   "cell_type": "code",
   "execution_count": 19,
   "id": "15d663f5-c6b1-48ec-a079-6115751f82c1",
   "metadata": {},
   "outputs": [
    {
     "name": "stdout",
     "output_type": "stream",
     "text": [
      "---------- information to data ------------\n",
      "<class 'pandas.core.frame.DataFrame'>\n",
      "RangeIndex: 99457 entries, 0 to 99456\n",
      "Data columns (total 7 columns):\n",
      " #   Column         Non-Null Count  Dtype  \n",
      "---  ------         --------------  -----  \n",
      " 0   invoice_no     99457 non-null  object \n",
      " 1   customer_id    99457 non-null  object \n",
      " 2   category       99457 non-null  object \n",
      " 3   quantity       99457 non-null  int64  \n",
      " 4   price          99457 non-null  float64\n",
      " 5   invoice_date   99457 non-null  object \n",
      " 6   shopping_mall  99457 non-null  object \n",
      "dtypes: float64(1), int64(1), object(5)\n",
      "memory usage: 5.3+ MB\n",
      "None\n",
      "---------- check null value ------------\n",
      "invoice_no       0\n",
      "customer_id      0\n",
      "category         0\n",
      "quantity         0\n",
      "price            0\n",
      "invoice_date     0\n",
      "shopping_mall    0\n",
      "dtype: int64\n",
      "------------- check duplicated raw ---------------\n",
      "0\n"
     ]
    }
   ],
   "source": [
    "clean_data(sale_data)"
   ]
  },
  {
   "cell_type": "code",
   "execution_count": 20,
   "id": "f484f04c-3ae2-4dac-9a48-21ca419c62c6",
   "metadata": {},
   "outputs": [],
   "source": [
    "# convert (invoice_date column) from object to dateTime"
   ]
  },
  {
   "cell_type": "code",
   "execution_count": 21,
   "id": "090773d0-8c25-4ec2-8342-37f0a977259f",
   "metadata": {},
   "outputs": [
    {
     "name": "stdout",
     "output_type": "stream",
     "text": [
      "datetime64[ns]\n",
      "<class 'pandas.core.frame.DataFrame'>\n",
      "RangeIndex: 99457 entries, 0 to 99456\n",
      "Data columns (total 7 columns):\n",
      " #   Column         Non-Null Count  Dtype         \n",
      "---  ------         --------------  -----         \n",
      " 0   invoice_no     99457 non-null  object        \n",
      " 1   customer_id    99457 non-null  object        \n",
      " 2   category       99457 non-null  object        \n",
      " 3   quantity       99457 non-null  int64         \n",
      " 4   price          99457 non-null  float64       \n",
      " 5   invoice_date   99457 non-null  datetime64[ns]\n",
      " 6   shopping_mall  99457 non-null  object        \n",
      "dtypes: datetime64[ns](1), float64(1), int64(1), object(4)\n",
      "memory usage: 5.3+ MB\n"
     ]
    }
   ],
   "source": [
    "sale_data['invoice_date'] = pd.to_datetime(sale_data['invoice_date'], format='%d-%m-%Y')\n",
    "print(sale_data['invoice_date'].dtypes)\n",
    "sale_data.info()"
   ]
  },
  {
   "cell_type": "code",
   "execution_count": null,
   "id": "ee440e00-1175-4549-9942-251d50d28a2c",
   "metadata": {},
   "outputs": [],
   "source": [
    "#clean csv file"
   ]
  },
  {
   "cell_type": "code",
   "execution_count": 32,
   "id": "553679a6-a956-475d-a715-e636f9134c9a",
   "metadata": {},
   "outputs": [],
   "source": [
    "\n",
    "cus_data.to_csv('customersData.csv', index=False)\n",
    "sale_data.to_csv('salesData.csv', index=False)"
   ]
  }
 ],
 "metadata": {
  "kernelspec": {
   "display_name": "Python 3 (ipykernel)",
   "language": "python",
   "name": "python3"
  },
  "language_info": {
   "codemirror_mode": {
    "name": "ipython",
    "version": 3
   },
   "file_extension": ".py",
   "mimetype": "text/x-python",
   "name": "python",
   "nbconvert_exporter": "python",
   "pygments_lexer": "ipython3",
   "version": "3.11.3"
  }
 },
 "nbformat": 4,
 "nbformat_minor": 5
}
