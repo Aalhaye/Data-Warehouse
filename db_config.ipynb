{
 "cells": [
  {
   "cell_type": "code",
   "execution_count": null,
   "metadata": {},
   "outputs": [],
   "source": [
    "from psycopg2 import sql\n",
    "import pandas as pd\n",
    "\n",
    "\n",
    "conn = psycopg2.connect(\n",
    "dbname=\"project_DB\", \n",
    "user=\"postgres\", \n",
    "password=\"123\", \n",
    "host=\"localhost\", \n",
    "port=\"5432\"\n",
    ")\n",
    "\n",
    "# إنشاء كائن cursor\n",
    "cursor = conn.cursor()\n",
    "\n",
    "data = pd.read_csv(filepath)\n",
    "columns = list(data.columns)\n",
    "\n",
    "# بناء استعلام INSERT مع placeholder\n",
    "insert_query = sql.SQL(\"INSERT INTO raw_tables.{} ({}) VALUES ({})\").format(\n",
    "          sql.Identifier(table_name),  # تخصيص اسم الجدول\n",
    "          sql.SQL(', ').join(map(sql.Identifier, columns)),  # تخصيص الأعمدة\n",
    "          sql.SQL(', ').join([sql.Placeholder()] * len(columns))  # تخصيص القيم\n",
    ")\n",
    "\n",
    "conn.commit()"
   ]
  }
 ],
 "metadata": {
  "language_info": {
   "name": "python"
  }
 },
 "nbformat": 4,
 "nbformat_minor": 2
}
